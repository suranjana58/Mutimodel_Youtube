{
 "cells": [
  {
   "cell_type": "code",
   "execution_count": 1,
   "id": "043434fa",
   "metadata": {},
   "outputs": [],
   "source": [
    "from pytube import YouTube\n",
    "import os"
   ]
  },
  {
   "cell_type": "code",
   "execution_count": 2,
   "id": "9bbd0a05",
   "metadata": {},
   "outputs": [],
   "source": [
    "def download_videos(video_urls, output_directory):\n",
    "    for video_url in video_urls:\n",
    "        try:\n",
    "            # Create a YouTube object\n",
    "            yt = YouTube(video_url)\n",
    "\n",
    "            # Choose the stream (resolution) you want to download\n",
    "            stream = yt.streams.get_highest_resolution()\n",
    "\n",
    "            # Download the video to the specified output directory\n",
    "            video_file = stream.download(output_path=output_directory)\n",
    "            print(f\"Downloaded: {yt.title}\")\n",
    "\n",
    "        except Exception as e:\n",
    "            print(f\"Error downloading {video_url}: {str(e)}\")"
   ]
  },
  {
   "cell_type": "code",
   "execution_count": 3,
   "id": "41b8eb05",
   "metadata": {},
   "outputs": [
    {
     "name": "stdout",
     "output_type": "stream",
     "text": [
      "Downloaded: Uber paid hackers to keep data breach quiet\n",
      "Downloaded: Robinhood CEO explains why company halted GameStop trading at congressional hearing\n",
      "Downloaded: CVS halts sales of two of its sun care products after Johnson & Johnson issues voluntary recall\n",
      "Downloaded: J&J CFO addresses talcum powder and opioid lawsuits\n",
      "Downloaded: Con Edison CEO talks improvements 10 years after Sandy\n",
      "Downloaded: Home Depot confirms massive data breach\n",
      "Downloaded: Boeing CEO apologizes to crash victims families\n"
     ]
    }
   ],
   "source": [
    "#testing for sample video links\n",
    "if __name__ == \"__main__\":\n",
    "    # List of YouTube video URLs to download\n",
    "    video_urls = [\n",
    "        ##'https://www.youtube.com/watch?v=k8P3_2kMums&ab_channel=Techaeris'\n",
    "        #'https://www.youtube.com/watch?v=qVCdIqADRrc&ab_channel=Reuters',\n",
    "        #'https://www.youtube.com/watch?v=2WLuuCM6Ej0&ab_channel=GuardianNews',\n",
    "        #'https://www.youtube.com/watch?v=XlQkfZ0KUHc&ab_channel=FoxNews',\n",
    "        #'https://www.youtube.com/watch?v=sQMTT_aa47w&ab_channel=CNNBusiness',\n",
    "        #'https://www.youtube.com/watch?v=xQWT8r7qOgU&ab_channel=NewChinaTV',\n",
    "        #'https://www.youtube.com/watch?v=V38eMXbK7gg&ab_channel=AssociatedPress',\n",
    "        #'https://www.youtube.com/watch?v=P7mcpCIRCw4&ab_channel=FoxBusiness',\n",
    "        #'https://www.youtube.com/watch?v=Uu7mZYYWM8c&ab_channel=WWLP-22News',\n",
    "        #'https://www.youtube.com/watch?v=gjLCIDwn2jw&ab_channel=PBSNewsHour',\n",
    "        #'https://www.youtube.com/watch?v=zBXAJV82744&ab_channel=CNNBusiness',\n",
    "        #'https://www.youtube.com/watch?v=C90TA9zn0yI&ab_channel=Reveal',\n",
    "        'https://www.youtube.com/watch?v=RgL8df0IG_c&ab_channel=AlJazeeraEnglish',\n",
    "        'https://www.youtube.com/watch?v=LP0knQQgbrs&ab_channel=CNBCTelevision',\n",
    "        'https://www.youtube.com/watch?v=CVOaDqY7988&ab_channel=CBSMornings',\n",
    "        'https://www.youtube.com/watch?v=-YTgPUFamQ8&ab_channel=YahooFinance',\n",
    "        'https://www.youtube.com/watch?v=ORQ1vrUrg_M&ab_channel=PIX11News',\n",
    "        'https://www.youtube.com/watch?v=ecif4TiWHXA&ab_channel=WCVBChannel5Boston',\n",
    "        'https://www.youtube.com/watch?v=wDNe69jMHmU&ab_channel=AssociatedPress'\n",
    "        # Add more video URLs as needed\n",
    "        \n",
    "    ]\n",
    "\n",
    "    # Output directory where videos will be saved\n",
    "    output_directory = '/Users/suranjanachowdhury/Downloads/YTVideo1'\n",
    "\n",
    "    # Ensure the output directory exists\n",
    "    os.makedirs(output_directory, exist_ok=True)\n",
    "\n",
    "    # Download the videos\n",
    "    download_videos(video_urls, output_directory)"
   ]
  },
  {
   "cell_type": "code",
   "execution_count": 4,
   "id": "86033667",
   "metadata": {
    "scrolled": true
   },
   "outputs": [],
   "source": [
    "#pip install moviepy"
   ]
  },
  {
   "cell_type": "code",
   "execution_count": 6,
   "id": "2302e3e0-42d0-4465-ac71-94b97da9d8d4",
   "metadata": {},
   "outputs": [
    {
     "name": "stdout",
     "output_type": "stream",
     "text": [
      "MoviePy - Writing audio in /Users/suranjanachowdhury/Downloads/wav1/Foxconn shares slide on news of China probe.wav\n"
     ]
    },
    {
     "name": "stderr",
     "output_type": "stream",
     "text": [
      "                                                                                \r"
     ]
    },
    {
     "name": "stdout",
     "output_type": "stream",
     "text": [
      "MoviePy - Done.\n",
      "MoviePy - Writing audio in /Users/suranjanachowdhury/Downloads/wav1/Home Depot confirms massive data breach.wav\n"
     ]
    },
    {
     "name": "stderr",
     "output_type": "stream",
     "text": [
      "                                                                                \r"
     ]
    },
    {
     "name": "stdout",
     "output_type": "stream",
     "text": [
      "MoviePy - Done.\n",
      "MoviePy - Writing audio in /Users/suranjanachowdhury/Downloads/wav1/Verizon CEO reveals how to keep your data secure as breaches surge.wav\n"
     ]
    },
    {
     "name": "stderr",
     "output_type": "stream",
     "text": [
      "                                                                                \r"
     ]
    },
    {
     "name": "stdout",
     "output_type": "stream",
     "text": [
      "MoviePy - Done.\n",
      "MoviePy - Writing audio in /Users/suranjanachowdhury/Downloads/wav1/Boeing CEO apologizes to crash victims families.wav\n"
     ]
    },
    {
     "name": "stderr",
     "output_type": "stream",
     "text": [
      "                                                                                \r"
     ]
    },
    {
     "name": "stdout",
     "output_type": "stream",
     "text": [
      "MoviePy - Done.\n",
      "MoviePy - Writing audio in /Users/suranjanachowdhury/Downloads/wav1/Data breach at Sonic restaurants could affect millions of customers.wav\n"
     ]
    },
    {
     "name": "stderr",
     "output_type": "stream",
     "text": [
      "                                                                                \r"
     ]
    },
    {
     "name": "stdout",
     "output_type": "stream",
     "text": [
      "MoviePy - Done.\n",
      "MoviePy - Writing audio in /Users/suranjanachowdhury/Downloads/wav1/Whistleblower Amazon let off the hook after worker’s death.wav\n"
     ]
    },
    {
     "name": "stderr",
     "output_type": "stream",
     "text": [
      "                                                                                \r"
     ]
    },
    {
     "name": "stdout",
     "output_type": "stream",
     "text": [
      "MoviePy - Done.\n",
      "MoviePy - Writing audio in /Users/suranjanachowdhury/Downloads/wav1/Heres how Chipotle got 500 people sick.wav\n"
     ]
    },
    {
     "name": "stderr",
     "output_type": "stream",
     "text": [
      "                                                                                \r"
     ]
    },
    {
     "name": "stdout",
     "output_type": "stream",
     "text": [
      "MoviePy - Done.\n",
      "MoviePy - Writing audio in /Users/suranjanachowdhury/Downloads/wav1/Robinhood CEO explains why company halted GameStop trading at congressional hearing.wav\n"
     ]
    },
    {
     "name": "stderr",
     "output_type": "stream",
     "text": [
      "                                                                                \r"
     ]
    },
    {
     "name": "stdout",
     "output_type": "stream",
     "text": [
      "MoviePy - Done.\n",
      "MoviePy - Writing audio in /Users/suranjanachowdhury/Downloads/wav1/CVS halts sales of two of its sun care products after Johnson & Johnson issues voluntary recall.wav\n"
     ]
    },
    {
     "name": "stderr",
     "output_type": "stream",
     "text": [
      "                                                                                \r"
     ]
    },
    {
     "name": "stdout",
     "output_type": "stream",
     "text": [
      "MoviePy - Done.\n",
      "MoviePy - Writing audio in /Users/suranjanachowdhury/Downloads/wav1/J&J CFO addresses talcum powder and opioid lawsuits.wav\n"
     ]
    },
    {
     "name": "stderr",
     "output_type": "stream",
     "text": [
      "                                                                                \r"
     ]
    },
    {
     "name": "stdout",
     "output_type": "stream",
     "text": [
      "MoviePy - Done.\n",
      "MoviePy - Writing audio in /Users/suranjanachowdhury/Downloads/wav1/Uber paid hackers to keep data breach quiet.wav\n"
     ]
    },
    {
     "name": "stderr",
     "output_type": "stream",
     "text": [
      "                                                                                \r"
     ]
    },
    {
     "name": "stdout",
     "output_type": "stream",
     "text": [
      "MoviePy - Done.\n",
      "MoviePy - Writing audio in /Users/suranjanachowdhury/Downloads/wav1/Yahoo scanning sparks privacy national security concerns.wav\n"
     ]
    },
    {
     "name": "stderr",
     "output_type": "stream",
     "text": [
      "                                                                                \r"
     ]
    },
    {
     "name": "stdout",
     "output_type": "stream",
     "text": [
      "MoviePy - Done.\n",
      "MoviePy - Writing audio in /Users/suranjanachowdhury/Downloads/wav1/Former Equifax CEO  I’m Sorry.wav\n"
     ]
    },
    {
     "name": "stderr",
     "output_type": "stream",
     "text": [
      "                                                                                \r"
     ]
    },
    {
     "name": "stdout",
     "output_type": "stream",
     "text": [
      "MoviePy - Done.\n",
      "MoviePy - Writing audio in /Users/suranjanachowdhury/Downloads/wav1/Marissa Mayer testifies over Yahoo data breaches.wav\n"
     ]
    },
    {
     "name": "stderr",
     "output_type": "stream",
     "text": [
      "                                                                                \r"
     ]
    },
    {
     "name": "stdout",
     "output_type": "stream",
     "text": [
      "MoviePy - Done.\n",
      "MoviePy - Writing audio in /Users/suranjanachowdhury/Downloads/wav1/Con Edison CEO talks improvements 10 years after Sandy.wav\n"
     ]
    },
    {
     "name": "stderr",
     "output_type": "stream",
     "text": [
      "                                                                                \r"
     ]
    },
    {
     "name": "stdout",
     "output_type": "stream",
     "text": [
      "MoviePy - Done.\n",
      "MoviePy - Writing audio in /Users/suranjanachowdhury/Downloads/wav1/Twitter CEO Jack Dorsey says shadow ban was not impartial.wav\n"
     ]
    },
    {
     "name": "stderr",
     "output_type": "stream",
     "text": [
      "                                                                                \r"
     ]
    },
    {
     "name": "stdout",
     "output_type": "stream",
     "text": [
      "MoviePy - Done.\n",
      "MoviePy - Writing audio in /Users/suranjanachowdhury/Downloads/wav1/Congresswoman Katie Porter grills billionaire CEO over pay disparity at JP Morgan.wav\n"
     ]
    },
    {
     "name": "stderr",
     "output_type": "stream",
     "text": [
      "                                                                                \r"
     ]
    },
    {
     "name": "stdout",
     "output_type": "stream",
     "text": [
      "MoviePy - Done.\n",
      "MoviePy - Writing audio in /Users/suranjanachowdhury/Downloads/wav1/Employee video reveals walmart food safety violations.wav\n"
     ]
    },
    {
     "name": "stderr",
     "output_type": "stream",
     "text": [
      "                                                                                "
     ]
    },
    {
     "name": "stdout",
     "output_type": "stream",
     "text": [
      "MoviePy - Done.\n"
     ]
    },
    {
     "name": "stderr",
     "output_type": "stream",
     "text": [
      "\r"
     ]
    }
   ],
   "source": [
    "from moviepy.editor import VideoFileClip\n",
    "import os\n",
    "\n",
    "def convert_videos_in_directory(input_directory, output_directory):\n",
    "    # Ensure the output directory exists\n",
    "    os.makedirs(output_directory, exist_ok=True)\n",
    "\n",
    "    # Iterate over files in the input directory\n",
    "    for filename in os.listdir(input_directory):\n",
    "        if filename.endswith(\".mp4\"):  # Adjust the file extension as needed\n",
    "            input_video_path = os.path.join(input_directory, filename)\n",
    "            output_audio_path = os.path.join(output_directory, f\"{os.path.splitext(filename)[0]}.wav\")\n",
    "\n",
    "            convert_video_to_wav(input_video_path, output_audio_path)\n",
    "\n",
    "def convert_video_to_wav(input_video_path, output_audio_path):\n",
    "    video_clip = VideoFileClip(input_video_path)\n",
    "    audio_clip = video_clip.audio\n",
    "\n",
    "    # Write audio to WAV file\n",
    "    audio_clip.write_audiofile(output_audio_path, codec='pcm_s16le', bitrate='16k', fps=44100)\n",
    "    \n",
    "    video_clip.close()\n",
    "\n",
    "# Example usage:\n",
    "input_video_directory = '/Users/suranjanachowdhury/Downloads/YTVideo1/'\n",
    "output_audio_directory = '/Users/suranjanachowdhury/Downloads/wav1/'\n",
    "\n",
    "convert_videos_in_directory(input_video_directory, output_audio_directory)\n"
   ]
  },
  {
   "cell_type": "markdown",
   "id": "137163a2-418b-476a-b7dc-74af66bbaaf7",
   "metadata": {},
   "source": [
    "Please Do not Run beyond THis"
   ]
  },
  {
   "cell_type": "markdown",
   "id": "dcc0e331",
   "metadata": {},
   "source": [
    "# Code to read from excel all video urls"
   ]
  },
  {
   "cell_type": "code",
   "execution_count": 6,
   "id": "7ab34edf",
   "metadata": {},
   "outputs": [
    {
     "name": "stdout",
     "output_type": "stream",
     "text": [
      "Downloaded: Experience Webull 7.0 Today\n",
      "Downloaded: Kasa Spot 24/7 Recording Indoor Camera | 2K | Night Vision | Motion Detection (KC401)\n",
      "Downloaded: Verizon’s Top 5 in 2021 | Verizon\n",
      "Downloaded: The Future of Work | Verizon\n",
      "Downloaded: Ready to test your smart robotics idea? | Verizon\n",
      "Downloaded: Thryv | Asks: What Is Your Favorite Part of Owning Your Own Business?\n",
      "Downloaded: Alcohol in Society | Wrong Side of the Road: Understand the impact of drink driving | Diageo\n",
      "Downloaded: Alcohol in Society | Wrong Side of the Road: Understand the impact of drink driving | Diageo\n",
      "Downloaded: Introducing our Responsible Drinking Campaign | Diageo\n",
      "Downloaded: Positive Drinking | “Know When to Stop”: Our Global Campaign on Responsible Drinking | Diageo\n",
      "Downloaded: Control endless social media scrolling this holiday season | Diageo\n",
      "Downloaded: Arcimoto Q1 2021 Earnings Webinar\n"
     ]
    }
   ],
   "source": [
    "##removing output folder and making one folder\n",
    "\n",
    "import cv2\n",
    "import os\n",
    "import pandas as pd\n",
    "import re\n",
    "from pytube import YouTube\n",
    "\n",
    "def extract_urls_from_cell(cell_value):\n",
    "    # Use regular expressions to extract URLs within square brackets\n",
    "    urls = re.findall(r'https?://[^\\s\\[\\]]+', cell_value)\n",
    "    return urls\n",
    "\n",
    "def download_videos_from_urls(url_list, output_directory):\n",
    "    for video_url in url_list:\n",
    "        try:\n",
    "            # Create a YouTube object\n",
    "            yt = YouTube(video_url)\n",
    "\n",
    "            # Choose the stream (resolution) you want to download\n",
    "            stream = yt.streams.get_highest_resolution()\n",
    "\n",
    "            # Download the video to the specified output directory\n",
    "            output_path = os.path.join(output_directory, f\"{yt.title}.mp4\")\n",
    "            stream.download(output_path=output_path)\n",
    "            print(f\"Downloaded: {yt.title}\")\n",
    "\n",
    "        except Exception as e:\n",
    "            print(f\"Error downloading {video_url}: {str(e)}\")\n",
    "\n",
    "if __name__ == \"__main__\":\n",
    "    # Read the Excel file with URLs\n",
    "    excel_file = '/Users/suranjanachowdhury/Downloads/GRA_FALL23/Negative_Events/Youtube_URL/2021_url_1107_to_1132.xlsx'\n",
    "    df = pd.read_excel(excel_file, header=None)\n",
    "\n",
    "    # Extract URLs from all cells and filter out blanks\n",
    "    url_list = []\n",
    "    for row in df.iterrows():\n",
    "        for cell_value in row[1]:\n",
    "            if isinstance(cell_value, str):\n",
    "                extracted_urls = extract_urls_from_cell(cell_value)\n",
    "                url_list.extend(extracted_urls)\n",
    "\n",
    "    # Output directory where videos will be saved\n",
    "    output_directory = '/Users/suranjanachowdhury/Downloads/output_videos/2021_url_1107_to_1132'\n",
    "\n",
    "    # Ensure the output directory exists\n",
    "    os.makedirs(output_directory, exist_ok=True)\n",
    "\n",
    "    # Download the videos from the extracted URLs\n",
    "    download_videos_from_urls(url_list, output_directory)\n"
   ]
  },
  {
   "cell_type": "code",
   "execution_count": null,
   "id": "1dc17c74",
   "metadata": {},
   "outputs": [],
   "source": [
    "#2021_url_1107_to_1132"
   ]
  },
  {
   "cell_type": "code",
   "execution_count": null,
   "id": "3786ec77",
   "metadata": {},
   "outputs": [],
   "source": []
  }
 ],
 "metadata": {
  "kernelspec": {
   "display_name": "Python 3 (ipykernel)",
   "language": "python",
   "name": "python3"
  },
  "language_info": {
   "codemirror_mode": {
    "name": "ipython",
    "version": 3
   },
   "file_extension": ".py",
   "mimetype": "text/x-python",
   "name": "python",
   "nbconvert_exporter": "python",
   "pygments_lexer": "ipython3",
   "version": "3.9.13"
  }
 },
 "nbformat": 4,
 "nbformat_minor": 5
}
