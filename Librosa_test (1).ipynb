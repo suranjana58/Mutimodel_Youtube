{
 "cells": [
  {
   "cell_type": "code",
   "execution_count": 1,
   "id": "b14e3d04",
   "metadata": {},
   "outputs": [
    {
     "name": "stdout",
     "output_type": "stream",
     "text": [
      "Requirement already satisfied: librosa in ./opt/anaconda3/lib/python3.9/site-packages (0.10.1)\n",
      "Requirement already satisfied: numpy in ./opt/anaconda3/lib/python3.9/site-packages (1.21.6)\n",
      "Requirement already satisfied: msgpack>=1.0 in ./opt/anaconda3/lib/python3.9/site-packages (from librosa) (1.0.3)\n",
      "Requirement already satisfied: soundfile>=0.12.1 in ./opt/anaconda3/lib/python3.9/site-packages (from librosa) (0.12.1)\n",
      "Requirement already satisfied: scikit-learn>=0.20.0 in ./opt/anaconda3/lib/python3.9/site-packages (from librosa) (1.0.2)\n",
      "Requirement already satisfied: lazy-loader>=0.1 in ./opt/anaconda3/lib/python3.9/site-packages (from librosa) (0.3)\n",
      "Requirement already satisfied: numba>=0.51.0 in ./opt/anaconda3/lib/python3.9/site-packages (from librosa) (0.55.1)\n",
      "Requirement already satisfied: pooch>=1.0 in ./opt/anaconda3/lib/python3.9/site-packages (from librosa) (1.8.0)\n",
      "Requirement already satisfied: joblib>=0.14 in ./opt/anaconda3/lib/python3.9/site-packages (from librosa) (1.1.0)\n",
      "Requirement already satisfied: audioread>=2.1.9 in ./opt/anaconda3/lib/python3.9/site-packages (from librosa) (3.0.1)\n",
      "Requirement already satisfied: decorator>=4.3.0 in ./opt/anaconda3/lib/python3.9/site-packages (from librosa) (4.4.2)\n",
      "Requirement already satisfied: typing-extensions>=4.1.1 in ./opt/anaconda3/lib/python3.9/site-packages (from librosa) (4.3.0)\n",
      "Requirement already satisfied: soxr>=0.3.2 in ./opt/anaconda3/lib/python3.9/site-packages (from librosa) (0.3.7)\n",
      "Requirement already satisfied: scipy>=1.2.0 in ./opt/anaconda3/lib/python3.9/site-packages (from librosa) (1.9.1)\n",
      "Requirement already satisfied: setuptools in ./opt/anaconda3/lib/python3.9/site-packages (from numba>=0.51.0->librosa) (63.4.1)\n",
      "Requirement already satisfied: llvmlite<0.39,>=0.38.0rc1 in ./opt/anaconda3/lib/python3.9/site-packages (from numba>=0.51.0->librosa) (0.38.0)\n",
      "Requirement already satisfied: requests>=2.19.0 in ./opt/anaconda3/lib/python3.9/site-packages (from pooch>=1.0->librosa) (2.28.1)\n",
      "Requirement already satisfied: platformdirs>=2.5.0 in ./opt/anaconda3/lib/python3.9/site-packages (from pooch>=1.0->librosa) (2.5.2)\n",
      "Requirement already satisfied: packaging>=20.0 in ./opt/anaconda3/lib/python3.9/site-packages (from pooch>=1.0->librosa) (21.3)\n",
      "Requirement already satisfied: threadpoolctl>=2.0.0 in ./opt/anaconda3/lib/python3.9/site-packages (from scikit-learn>=0.20.0->librosa) (2.2.0)\n",
      "Requirement already satisfied: cffi>=1.0 in ./opt/anaconda3/lib/python3.9/site-packages (from soundfile>=0.12.1->librosa) (1.15.1)\n",
      "Requirement already satisfied: pycparser in ./opt/anaconda3/lib/python3.9/site-packages (from cffi>=1.0->soundfile>=0.12.1->librosa) (2.21)\n",
      "Requirement already satisfied: pyparsing!=3.0.5,>=2.0.2 in ./opt/anaconda3/lib/python3.9/site-packages (from packaging>=20.0->pooch>=1.0->librosa) (3.0.9)\n",
      "Requirement already satisfied: urllib3<1.27,>=1.21.1 in ./opt/anaconda3/lib/python3.9/site-packages (from requests>=2.19.0->pooch>=1.0->librosa) (1.26.11)\n",
      "Requirement already satisfied: charset-normalizer<3,>=2 in ./opt/anaconda3/lib/python3.9/site-packages (from requests>=2.19.0->pooch>=1.0->librosa) (2.0.4)\n",
      "Requirement already satisfied: idna<4,>=2.5 in ./opt/anaconda3/lib/python3.9/site-packages (from requests>=2.19.0->pooch>=1.0->librosa) (3.3)\n",
      "Requirement already satisfied: certifi>=2017.4.17 in ./opt/anaconda3/lib/python3.9/site-packages (from requests>=2.19.0->pooch>=1.0->librosa) (2022.9.24)\n",
      "Note: you may need to restart the kernel to use updated packages.\n"
     ]
    }
   ],
   "source": [
    "pip install librosa numpy"
   ]
  },
  {
   "cell_type": "code",
   "execution_count": 5,
   "id": "a7d69ce5",
   "metadata": {},
   "outputs": [
    {
     "name": "stdout",
     "output_type": "stream",
     "text": [
      "Feature Matrix Shape: (145,)\n"
     ]
    },
    {
     "name": "stderr",
     "output_type": "stream",
     "text": [
      "/var/folders/xx/rbbr4jzx5d139mngn53bcc4c0000gn/T/ipykernel_88472/3055244401.py:24: VisibleDeprecationWarning: Creating an ndarray from ragged nested sequences (which is a list-or-tuple of lists-or-tuples-or ndarrays with different lengths or shapes) is deprecated. If you meant to do this, you must specify 'dtype=object' when creating the ndarray.\n",
      "  feature_matrix = np.array(feature_matrix)\n"
     ]
    }
   ],
   "source": [
    "import librosa\n",
    "import numpy as np\n",
    "\n",
    "# Assuming you have a function to load audio data (e.g., load_audio(filename))\n",
    "# and that the audio is sampled at a rate of 44.1 kHz (adjust accordingly).\n",
    "\n",
    "def extract_features(audio_data, sr=44100, feature_dim=74, frame_length=135):\n",
    "    feature_matrix = []\n",
    "\n",
    "    # Split the audio into frames of 1 second (44,100 samples assuming 44.1 kHz).\n",
    "    for i in range(0, len(audio_data), sr):\n",
    "        frame = audio_data[i:i + sr]\n",
    "\n",
    "        # Extract the spectrogram using Librosa.\n",
    "        spectrogram = np.abs(librosa.stft(frame))\n",
    "\n",
    "        # Extract features (MFCCs in this case) using Librosa.\n",
    "        features = librosa.feature.mfcc(S=librosa.power_to_db(spectrogram), sr=sr, n_mfcc=feature_dim)\n",
    "\n",
    "        # Flatten the features and append to the feature matrix.\n",
    "        feature_matrix.append(features.flatten())\n",
    "\n",
    "    # Convert the list of lists to a NumPy array.\n",
    "    feature_matrix = np.array(feature_matrix)\n",
    "\n",
    "    return feature_matrix\n",
    "\n",
    "# Load audio file (replace 'your_audio_file.wav' with the actual filename).\n",
    "audio_file = '/Users/suranjanachowdhury/Downloads/output_audio.wav'\n",
    "audio_data, _ = librosa.load(audio_file, sr=44100)\n",
    "\n",
    "# Extract features and obtain the feature matrix.\n",
    "feature_matrix = extract_features(audio_data)\n",
    "\n",
    "# Print the shape of the feature matrix.\n",
    "print(\"Feature Matrix Shape:\", feature_matrix.shape)\n"
   ]
  },
  {
   "cell_type": "code",
   "execution_count": 6,
   "id": "217e4af7",
   "metadata": {},
   "outputs": [
    {
     "name": "stdout",
     "output_type": "stream",
     "text": [
      "['chroma_cens', 'chroma_cqt', 'chroma_stft', 'chroma_vqt', 'delta', 'fourier_tempogram', 'inverse', 'melspectrogram', 'mfcc', 'poly_features', 'rms', 'spectral_bandwidth', 'spectral_centroid', 'spectral_contrast', 'spectral_flatness', 'spectral_rolloff', 'stack_memory', 'tempo', 'tempogram', 'tempogram_ratio', 'tonnetz', 'zero_crossing_rate']\n"
     ]
    }
   ],
   "source": [
    "print(dir(librosa.feature))"
   ]
  },
  {
   "cell_type": "code",
   "execution_count": null,
   "id": "34c227aa",
   "metadata": {},
   "outputs": [],
   "source": []
  }
 ],
 "metadata": {
  "kernelspec": {
   "display_name": "Python 3 (ipykernel)",
   "language": "python",
   "name": "python3"
  },
  "language_info": {
   "codemirror_mode": {
    "name": "ipython",
    "version": 3
   },
   "file_extension": ".py",
   "mimetype": "text/x-python",
   "name": "python",
   "nbconvert_exporter": "python",
   "pygments_lexer": "ipython3",
   "version": "3.9.13"
  }
 },
 "nbformat": 4,
 "nbformat_minor": 5
}
