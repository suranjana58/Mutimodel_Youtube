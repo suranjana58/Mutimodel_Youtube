{
 "cells": [
  {
   "cell_type": "code",
   "execution_count": 1,
   "id": "043434fa",
   "metadata": {},
   "outputs": [],
   "source": [
    "from pytube import YouTube\n",
    "import os"
   ]
  },
  {
   "cell_type": "code",
   "execution_count": 2,
   "id": "9bbd0a05",
   "metadata": {},
   "outputs": [],
   "source": [
    "def download_videos(video_urls, output_directory):\n",
    "    for video_url in video_urls:\n",
    "        try:\n",
    "            # Create a YouTube object\n",
    "            yt = YouTube(video_url)\n",
    "\n",
    "            # Choose the stream (resolution) you want to download\n",
    "            stream = yt.streams.get_highest_resolution()\n",
    "\n",
    "            # Download the video to the specified output directory\n",
    "            video_file = stream.download(output_path=output_directory)\n",
    "            print(f\"Downloaded: {yt.title}\")\n",
    "\n",
    "        except Exception as e:\n",
    "            print(f\"Error downloading {video_url}: {str(e)}\")"
   ]
  },
  {
   "cell_type": "code",
   "execution_count": 4,
   "id": "41b8eb05",
   "metadata": {},
   "outputs": [
    {
     "name": "stdout",
     "output_type": "stream",
     "text": [
      "Downloaded: Samsung COO Tim Baxter Note7 Apology\n"
     ]
    }
   ],
   "source": [
    "#testing for sample video links\n",
    "if __name__ == \"__main__\":\n",
    "    # List of YouTube video URLs to download\n",
    "    video_urls = [\n",
    "        'https://www.youtube.com/watch?v=k8P3_2kMums&ab_channel=Techaeris'\n",
    "        # Add more video URLs as needed\n",
    "        \n",
    "    ]\n",
    "\n",
    "    # Output directory where videos will be saved\n",
    "    output_directory = '/Users/suranjanachowdhury/Downloads/'\n",
    "\n",
    "    # Ensure the output directory exists\n",
    "    os.makedirs(output_directory, exist_ok=True)\n",
    "\n",
    "    # Download the videos\n",
    "    download_videos(video_urls, output_directory)"
   ]
  },
  {
   "cell_type": "code",
   "execution_count": 6,
   "id": "86033667",
   "metadata": {},
   "outputs": [
    {
     "name": "stdout",
     "output_type": "stream",
     "text": [
      "Requirement already satisfied: moviepy in ./opt/anaconda3/lib/python3.9/site-packages (1.0.3)\n",
      "Requirement already satisfied: tqdm<5.0,>=4.11.2 in ./opt/anaconda3/lib/python3.9/site-packages (from moviepy) (4.64.1)\n",
      "Requirement already satisfied: numpy>=1.17.3 in ./opt/anaconda3/lib/python3.9/site-packages (from moviepy) (1.21.6)\n",
      "Requirement already satisfied: proglog<=1.0.0 in ./opt/anaconda3/lib/python3.9/site-packages (from moviepy) (0.1.10)\n",
      "Requirement already satisfied: decorator<5.0,>=4.0.2 in ./opt/anaconda3/lib/python3.9/site-packages (from moviepy) (4.4.2)\n",
      "Requirement already satisfied: imageio<3.0,>=2.5 in ./opt/anaconda3/lib/python3.9/site-packages (from moviepy) (2.19.3)\n",
      "Requirement already satisfied: requests<3.0,>=2.8.1 in ./opt/anaconda3/lib/python3.9/site-packages (from moviepy) (2.28.1)\n",
      "Requirement already satisfied: imageio-ffmpeg>=0.2.0 in ./opt/anaconda3/lib/python3.9/site-packages (from moviepy) (0.4.9)\n",
      "Requirement already satisfied: pillow>=8.3.2 in ./opt/anaconda3/lib/python3.9/site-packages (from imageio<3.0,>=2.5->moviepy) (9.2.0)\n",
      "Requirement already satisfied: setuptools in ./opt/anaconda3/lib/python3.9/site-packages (from imageio-ffmpeg>=0.2.0->moviepy) (63.4.1)\n",
      "Requirement already satisfied: idna<4,>=2.5 in ./opt/anaconda3/lib/python3.9/site-packages (from requests<3.0,>=2.8.1->moviepy) (3.3)\n",
      "Requirement already satisfied: certifi>=2017.4.17 in ./opt/anaconda3/lib/python3.9/site-packages (from requests<3.0,>=2.8.1->moviepy) (2022.9.24)\n",
      "Requirement already satisfied: charset-normalizer<3,>=2 in ./opt/anaconda3/lib/python3.9/site-packages (from requests<3.0,>=2.8.1->moviepy) (2.0.4)\n",
      "Requirement already satisfied: urllib3<1.27,>=1.21.1 in ./opt/anaconda3/lib/python3.9/site-packages (from requests<3.0,>=2.8.1->moviepy) (1.26.11)\n",
      "Note: you may need to restart the kernel to use updated packages.\n"
     ]
    }
   ],
   "source": [
    "pip install moviepy"
   ]
  },
  {
   "cell_type": "code",
   "execution_count": 8,
   "id": "7eb1c41a",
   "metadata": {},
   "outputs": [
    {
     "name": "stdout",
     "output_type": "stream",
     "text": [
      "MoviePy - Writing audio in /Users/suranjanachowdhury/Downloads/output_audio_samsung.wav\n"
     ]
    },
    {
     "name": "stderr",
     "output_type": "stream",
     "text": [
      "                                                                                "
     ]
    },
    {
     "name": "stdout",
     "output_type": "stream",
     "text": [
      "MoviePy - Done.\n"
     ]
    },
    {
     "name": "stderr",
     "output_type": "stream",
     "text": [
      "\r"
     ]
    }
   ],
   "source": [
    "#Convert wav\n",
    "from moviepy.editor import VideoFileClip\n",
    "\n",
    "def convert_video_to_wav(input_video_path, output_audio_path):\n",
    "    video_clip = VideoFileClip(input_video_path)\n",
    "    audio_clip = video_clip.audio\n",
    "\n",
    "    # Write audio to WAV file\n",
    "    audio_clip.write_audiofile(output_audio_path, codec='pcm_s16le', bitrate='16k', fps=44100)\n",
    "    \n",
    "    video_clip.close()\n",
    "\n",
    "# Example usage:\n",
    "input_video_path = '/Users/suranjanachowdhury/Downloads/Samsung COO Tim Baxter Note7 Apology.mp4'\n",
    "output_audio_path = '/Users/suranjanachowdhury/Downloads/output_audio_samsung.wav'\n",
    "\n",
    "convert_video_to_wav(input_video_path, output_audio_path)\n"
   ]
  },
  {
   "cell_type": "code",
   "execution_count": null,
   "id": "d16eb238",
   "metadata": {},
   "outputs": [],
   "source": []
  },
  {
   "cell_type": "markdown",
   "id": "dcc0e331",
   "metadata": {},
   "source": [
    "# Code to read from excel all video urls"
   ]
  },
  {
   "cell_type": "code",
   "execution_count": 6,
   "id": "7ab34edf",
   "metadata": {},
   "outputs": [
    {
     "name": "stdout",
     "output_type": "stream",
     "text": [
      "Downloaded: Experience Webull 7.0 Today\n",
      "Downloaded: Kasa Spot 24/7 Recording Indoor Camera | 2K | Night Vision | Motion Detection (KC401)\n",
      "Downloaded: Verizon’s Top 5 in 2021 | Verizon\n",
      "Downloaded: The Future of Work | Verizon\n",
      "Downloaded: Ready to test your smart robotics idea? | Verizon\n",
      "Downloaded: Thryv | Asks: What Is Your Favorite Part of Owning Your Own Business?\n",
      "Downloaded: Alcohol in Society | Wrong Side of the Road: Understand the impact of drink driving | Diageo\n",
      "Downloaded: Alcohol in Society | Wrong Side of the Road: Understand the impact of drink driving | Diageo\n",
      "Downloaded: Introducing our Responsible Drinking Campaign | Diageo\n",
      "Downloaded: Positive Drinking | “Know When to Stop”: Our Global Campaign on Responsible Drinking | Diageo\n",
      "Downloaded: Control endless social media scrolling this holiday season | Diageo\n",
      "Downloaded: Arcimoto Q1 2021 Earnings Webinar\n"
     ]
    }
   ],
   "source": [
    "##removing output folder and making one folder\n",
    "\n",
    "import cv2\n",
    "import os\n",
    "import pandas as pd\n",
    "import re\n",
    "from pytube import YouTube\n",
    "\n",
    "def extract_urls_from_cell(cell_value):\n",
    "    # Use regular expressions to extract URLs within square brackets\n",
    "    urls = re.findall(r'https?://[^\\s\\[\\]]+', cell_value)\n",
    "    return urls\n",
    "\n",
    "def download_videos_from_urls(url_list, output_directory):\n",
    "    for video_url in url_list:\n",
    "        try:\n",
    "            # Create a YouTube object\n",
    "            yt = YouTube(video_url)\n",
    "\n",
    "            # Choose the stream (resolution) you want to download\n",
    "            stream = yt.streams.get_highest_resolution()\n",
    "\n",
    "            # Download the video to the specified output directory\n",
    "            output_path = os.path.join(output_directory, f\"{yt.title}.mp4\")\n",
    "            stream.download(output_path=output_path)\n",
    "            print(f\"Downloaded: {yt.title}\")\n",
    "\n",
    "        except Exception as e:\n",
    "            print(f\"Error downloading {video_url}: {str(e)}\")\n",
    "\n",
    "if __name__ == \"__main__\":\n",
    "    # Read the Excel file with URLs\n",
    "    excel_file = '/Users/suranjanachowdhury/Downloads/GRA_FALL23/Negative_Events/Youtube_URL/2021_url_1107_to_1132.xlsx'\n",
    "    df = pd.read_excel(excel_file, header=None)\n",
    "\n",
    "    # Extract URLs from all cells and filter out blanks\n",
    "    url_list = []\n",
    "    for row in df.iterrows():\n",
    "        for cell_value in row[1]:\n",
    "            if isinstance(cell_value, str):\n",
    "                extracted_urls = extract_urls_from_cell(cell_value)\n",
    "                url_list.extend(extracted_urls)\n",
    "\n",
    "    # Output directory where videos will be saved\n",
    "    output_directory = '/Users/suranjanachowdhury/Downloads/output_videos/2021_url_1107_to_1132'\n",
    "\n",
    "    # Ensure the output directory exists\n",
    "    os.makedirs(output_directory, exist_ok=True)\n",
    "\n",
    "    # Download the videos from the extracted URLs\n",
    "    download_videos_from_urls(url_list, output_directory)\n"
   ]
  },
  {
   "cell_type": "code",
   "execution_count": null,
   "id": "1dc17c74",
   "metadata": {},
   "outputs": [],
   "source": [
    "#2021_url_1107_to_1132"
   ]
  },
  {
   "cell_type": "code",
   "execution_count": null,
   "id": "3786ec77",
   "metadata": {},
   "outputs": [],
   "source": []
  }
 ],
 "metadata": {
  "kernelspec": {
   "display_name": "Python 3 (ipykernel)",
   "language": "python",
   "name": "python3"
  },
  "language_info": {
   "codemirror_mode": {
    "name": "ipython",
    "version": 3
   },
   "file_extension": ".py",
   "mimetype": "text/x-python",
   "name": "python",
   "nbconvert_exporter": "python",
   "pygments_lexer": "ipython3",
   "version": "3.9.13"
  }
 },
 "nbformat": 4,
 "nbformat_minor": 5
}
